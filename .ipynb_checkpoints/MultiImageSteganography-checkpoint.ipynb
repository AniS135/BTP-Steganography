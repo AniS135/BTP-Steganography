{
 "cells": [
  {
   "cell_type": "code",
   "execution_count": 1,
   "metadata": {
    "id": "t9Nf_HKStLTX"
   },
   "outputs": [],
   "source": [
    "import torch\n",
    "import torch.nn as nn\n",
    "import numpy as np \n",
    "import pandas as pd\n",
    "from torchvision import transforms\n",
    "\n",
    "device = torch.device('cuda' if torch.cuda.is_available() else 'cpu')"
   ]
  },
  {
   "cell_type": "code",
   "execution_count": 2,
   "metadata": {
    "id": "6aSpU-eEtSoJ"
   },
   "outputs": [],
   "source": [
    "dataset_path = '../MultiImageSteganography'\n",
    "train_csv = 'train_dataset.csv'\n",
    "valid_csv = 'valid_dataset.csv'\n",
    "train_folder = 'train/'\n",
    "validation_folder = 'validation/'"
   ]
  },
  {
   "cell_type": "code",
   "execution_count": null,
   "metadata": {
    "id": "yT7KkirbuDsN"
   },
   "outputs": [],
   "source": [
    "class SteganoDataset(torch.utils.data.Dataset):\n",
    "    def __init__(self,dataset_csv):\n",
    "        self.dataset = pd.read_csv(dataset_csv)\n",
    "        \n",
    "    \n",
    "    def __getitem__(self,index):\n",
    "        pass \n",
    "    \n",
    "    def __len__(self):\n",
    "        return len(self.dataset)"
   ]
  }
 ],
 "metadata": {
  "colab": {
   "name": "MultiImageSteganography.ipynb",
   "provenance": []
  },
  "kernelspec": {
   "display_name": "Python 3",
   "language": "python",
   "name": "python3"
  },
  "language_info": {
   "codemirror_mode": {
    "name": "ipython",
    "version": 3
   },
   "file_extension": ".py",
   "mimetype": "text/x-python",
   "name": "python",
   "nbconvert_exporter": "python",
   "pygments_lexer": "ipython3",
   "version": "3.6.9"
  }
 },
 "nbformat": 4,
 "nbformat_minor": 1
}
